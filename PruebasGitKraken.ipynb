{
 "cells": [
  {
   "cell_type": "code",
   "execution_count": 3,
   "metadata": {},
   "outputs": [],
   "source": [
    "from time import sleep\n",
    "def print_words(sentence):\n",
    "    for word in sentence.split():\n",
    "        for l in word:\n",
    "            sleep(.08)\n",
    "            print(l, end = '')\n",
    "        print(end = ' ')"
   ]
  },
  {
   "cell_type": "code",
   "execution_count": 4,
   "metadata": {},
   "outputs": [
    {
     "data": {
      "text/plain": [
       "['uno', 'dos', 'tres']"
      ]
     },
     "execution_count": 4,
     "metadata": {},
     "output_type": "execute_result"
    }
   ],
   "source": [
    "lista = [ \"uno\", \"dos\", \"tres\" ]\n",
    "lista"
   ]
  },
  {
   "cell_type": "code",
   "execution_count": 5,
   "metadata": {},
   "outputs": [
    {
     "data": {
      "text/plain": [
       "['¿Deseas continuar hacia la derecha?',\n",
       " '¿Deseas continuar hacia la izquierda?',\n",
       " 'Nada?']"
      ]
     },
     "execution_count": 5,
     "metadata": {},
     "output_type": "execute_result"
    }
   ],
   "source": [
    "preguntas = [ \"¿Deseas continuar hacia la derecha?\", \"¿Deseas continuar hacia la izquierda?\" , \"Nada?\"]\n",
    "preguntas"
   ]
  },
  {
   "cell_type": "code",
   "execution_count": 6,
   "metadata": {},
   "outputs": [],
   "source": [
    "enunciado = \"En el siguiente juego tienes tres opciones, ¿Cual eliges?\""
   ]
  },
  {
   "cell_type": "code",
   "execution_count": 7,
   "metadata": {},
   "outputs": [],
   "source": [
    "prompt = \"uno, dos , tres \""
   ]
  },
  {
   "cell_type": "code",
   "execution_count": 8,
   "metadata": {},
   "outputs": [
    {
     "name": "stdout",
     "output_type": "stream",
     "text": [
      "uno, dos , tres uno\n"
     ]
    }
   ],
   "source": [
    "opcion = input(prompt)"
   ]
  },
  {
   "cell_type": "code",
   "execution_count": 9,
   "metadata": {},
   "outputs": [
    {
     "data": {
      "text/plain": [
       "'¿Deseas continuar hacia la derecha?'"
      ]
     },
     "execution_count": 9,
     "metadata": {},
     "output_type": "execute_result"
    }
   ],
   "source": [
    "preguntas[0]"
   ]
  },
  {
   "cell_type": "code",
   "execution_count": 11,
   "metadata": {},
   "outputs": [
    {
     "name": "stdout",
     "output_type": "stream",
     "text": [
      "uno, dos , tres b\n",
      "Tu pregunta es Nada?\n"
     ]
    }
   ],
   "source": [
    "opcion = input(prompt)\n",
    "if opcion == \"uno\":\n",
    "    print(\"Tu pregunta es %s\" % preguntas [0])\n",
    "elif opcion == \"dos\":\n",
    "    print(\"Tu pregunta es %s\" % preguntas [1])\n",
    "else:\n",
    "    print(\"Tu pregunta es %s\" % preguntas [2])"
   ]
  },
  {
   "cell_type": "code",
   "execution_count": null,
   "metadata": {},
   "outputs": [],
   "source": []
  },
  {
   "cell_type": "code",
   "execution_count": null,
   "metadata": {},
   "outputs": [],
   "source": []
  },
  {
   "cell_type": "code",
   "execution_count": null,
   "metadata": {},
   "outputs": [],
   "source": []
  }
 ],
 "metadata": {
  "kernelspec": {
   "display_name": "Python 3",
   "language": "python",
   "name": "python3"
  }
 },
 "nbformat": 4,
 "nbformat_minor": 2
}
