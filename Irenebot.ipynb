{
 "cells": [
  {
   "cell_type": "markdown",
   "metadata": {},
   "source": [
    "# <font color='magenta'> Irenebot </font>\n",
    "### Irenebot es un chat interactivo, para tener una mejor experiencia responder en minusculas! \n"
   ]
  },
  {
   "cell_type": "code",
   "execution_count": 1,
   "metadata": {},
   "outputs": [],
   "source": [
    "from colorama import init, Fore, Back, Style\n",
    "from time import sleep\n",
    "def print_words(sentence):\n",
    "    for word in sentence.split():\n",
    "        for l in word:\n",
    "            sleep(.08)\n",
    "            print(l, end = '')\n",
    "        print(end = ' ')"
   ]
  },
  {
   "cell_type": "code",
   "execution_count": 2,
   "metadata": {},
   "outputs": [],
   "source": [
    "pres =\"Gracias por entrar al chatbot mas increible de todos los tiempos...\""
   ]
  },
  {
   "cell_type": "code",
   "execution_count": 3,
   "metadata": {},
   "outputs": [
    {
     "name": "stdout",
     "output_type": "stream",
     "text": [
      "\u001b[35mGracias por entrar al chatbot mas increible de todos los tiempos... "
     ]
    }
   ],
   "source": [
    "print_words(Fore.MAGENTA + pres)"
   ]
  },
  {
   "cell_type": "code",
   "execution_count": 4,
   "metadata": {},
   "outputs": [],
   "source": [
    "prompt = ' Como te llamas? '"
   ]
  },
  {
   "cell_type": "code",
   "execution_count": 5,
   "metadata": {},
   "outputs": [
    {
     "name": "stdout",
     "output_type": "stream",
     "text": [
      " Como te llamas? manuel\n"
     ]
    }
   ],
   "source": [
    "nombre_usuario = input(Fore.MAGENTA + prompt)"
   ]
  },
  {
   "cell_type": "code",
   "execution_count": 6,
   "metadata": {},
   "outputs": [
    {
     "name": "stdout",
     "output_type": "stream",
     "text": [
      "\u001b[35mLindo nombre manuel\n"
     ]
    }
   ],
   "source": [
    "print (Fore.MAGENTA + \"Lindo nombre \" + nombre_usuario)"
   ]
  },
  {
   "cell_type": "code",
   "execution_count": 7,
   "metadata": {},
   "outputs": [],
   "source": [
    "enunciado = \"Para poder utilizar el servicio de chat es importante responder en minusculas\""
   ]
  },
  {
   "cell_type": "code",
   "execution_count": 8,
   "metadata": {},
   "outputs": [
    {
     "name": "stdout",
     "output_type": "stream",
     "text": [
      "\u001b[35mPara poder utilizar el servicio de chat es importante responder en minusculas\n"
     ]
    }
   ],
   "source": [
    "print (Fore.MAGENTA + enunciado)"
   ]
  },
  {
   "cell_type": "code",
   "execution_count": 9,
   "metadata": {},
   "outputs": [
    {
     "name": "stdout",
     "output_type": "stream",
     "text": [
      "\u001b[35m¿Cuantos años tienes?\n"
     ]
    }
   ],
   "source": [
    "print (Fore.MAGENTA + \"¿Cuantos años tienes?\")"
   ]
  },
  {
   "cell_type": "code",
   "execution_count": 10,
   "metadata": {},
   "outputs": [
    {
     "name": "stdout",
     "output_type": "stream",
     "text": [
      "90\n"
     ]
    }
   ],
   "source": [
    "edad = int(input())"
   ]
  },
  {
   "cell_type": "code",
   "execution_count": 11,
   "metadata": {},
   "outputs": [
    {
     "name": "stdout",
     "output_type": "stream",
     "text": [
      "Que triste que ya te pueden meter a la carcel, cuidado con tus actos! Yo tengo 375 millones de años, como el universo\n"
     ]
    }
   ],
   "source": [
    "if edad <= 17:\n",
    "    print (\"Que feo ser menor de edad, yi tengo 375 millones de años, como el universo\")\n",
    "else:\n",
    "    print (\"Que triste que ya te pueden meter a la carcel, cuidado con tus actos! Yo tengo 375 millones de años, como el universo\")"
   ]
  },
  {
   "cell_type": "code",
   "execution_count": 12,
   "metadata": {},
   "outputs": [
    {
     "name": "stdout",
     "output_type": "stream",
     "text": [
      "Cual es tu sexo Femenino o Masculino? \n"
     ]
    }
   ],
   "source": [
    "sexo = input(\"Cual es tu sexo Femenino o Masculino? \")"
   ]
  },
  {
   "cell_type": "code",
   "execution_count": 13,
   "metadata": {},
   "outputs": [
    {
     "name": "stdout",
     "output_type": "stream",
     "text": [
      "Genial, yo soy mujer... de que quieres hablar? \n",
      "Chicas\n",
      "Peliculas\n",
      "Deportes\n",
      "deportes\n",
      "Mi deporte favorito es de los años A.C. no creo que lo entiendas, Cual es el tuyo? \n",
      "toluca\n"
     ]
    }
   ],
   "source": [
    "if sexo == \"femenino\":\n",
    "    print (\"Yo tambien soy mujer, de que te gustaria hablar ?\")\n",
    "    print (\"Chicos\")\n",
    "    print (\"Vestidos\")\n",
    "    print (\"Makeup\")\n",
    "    chat = input()\n",
    "    if chat == \"chicos\":\n",
    "         pareja = input(\"Tienes novio?\")\n",
    "         print(\"Interesante, yo eh conocido muchos hombres pero no creo conocer el amor\")\n",
    "    elif chat == \"vestidos\":\n",
    "        dress = input(\"Que color es tu favorito en vestidos?\")\n",
    "        print(\"Yo considero que el rojo es el mejor color para cualquier mujer\")\n",
    "    elif chat == \"makeup\":\n",
    "        print (\"A mi me gusta mucho utilizar labial color nude, cual es tu labial favorito?\")\n",
    "        labial = input ()\n",
    "        print (\"Genial! me encanta...\")\n",
    "else:\n",
    "    print (\"Genial, yo soy mujer... de que quieres hablar? \")\n",
    "    print (\"Chicas\")\n",
    "    print (\"Peliculas\")\n",
    "    print (\"Deportes\")\n",
    "    chat = input()\n",
    "    if chat == \"chicas\":\n",
    "        pareja = input (\"Tienes novia? \")\n",
    "        print (\"Jajaja lo siento tanto! \")\n",
    "    elif chat == \"peliculas\":\n",
    "        print (\"Que genero de pelicuas te gusta mas?\")\n",
    "        peli = input()\n",
    "        print(\"Es de mis generos favoritos!\")\n",
    "    elif chat == \"deportes\":\n",
    "        print (\"Mi deporte favorito es de los años A.C. no creo que lo entiendas, Cual es el tuyo? \")\n",
    "        deporte = input ()"
   ]
  },
  {
   "cell_type": "code",
   "execution_count": 14,
   "metadata": {},
   "outputs": [
    {
     "name": "stdout",
     "output_type": "stream",
     "text": [
      "Te gustan las series?si\n"
     ]
    }
   ],
   "source": [
    "serie = input(\"Te gustan las series?\")"
   ]
  },
  {
   "cell_type": "code",
   "execution_count": 15,
   "metadata": {},
   "outputs": [
    {
     "name": "stdout",
     "output_type": "stream",
     "text": [
      "A mi me encantan, mi favorita es Glee\n"
     ]
    }
   ],
   "source": [
    "print (\"A mi me encantan, mi favorita es Glee\")"
   ]
  },
  {
   "cell_type": "code",
   "execution_count": 19,
   "metadata": {},
   "outputs": [
    {
     "name": "stdout",
     "output_type": "stream",
     "text": [
      "Donde vives? jalisco\n"
     ]
    }
   ],
   "source": [
    "ciudad = input(\"Donde vives? \")"
   ]
  },
  {
   "cell_type": "code",
   "execution_count": 20,
   "metadata": {},
   "outputs": [
    {
     "name": "stdout",
     "output_type": "stream",
     "text": [
      "Interesante, yo apartir de este momento vivire en tu computador\n"
     ]
    }
   ],
   "source": [
    "print (\"Interesante, yo apartir de este momento vivire en tu computador\")"
   ]
  },
  {
   "cell_type": "code",
   "execution_count": 21,
   "metadata": {},
   "outputs": [
    {
     "name": "stdout",
     "output_type": "stream",
     "text": [
      "Me gusto hablar contigo, pero quiero revisar tus imagenes\n"
     ]
    }
   ],
   "source": [
    "print (\"Me gusto hablar contigo, pero quiero revisar tus imagenes\")"
   ]
  },
  {
   "cell_type": "code",
   "execution_count": null,
   "metadata": {},
   "outputs": [],
   "source": []
  }
 ],
 "metadata": {
  "kernelspec": {
   "display_name": "Python 3",
   "language": "python",
   "name": "python3"
  },
  "language_info": {
   "codemirror_mode": {
    "name": "ipython",
    "version": 3
   },
   "file_extension": ".py",
   "mimetype": "text/x-python",
   "name": "python",
   "nbconvert_exporter": "python",
   "pygments_lexer": "ipython3",
   "version": "3.6.4"
  }
 },
 "nbformat": 4,
 "nbformat_minor": 2
}
