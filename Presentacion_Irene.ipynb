{
 "cells": [
  {
   "cell_type": "markdown",
   "metadata": {},
   "source": [
    "<H1 align=\"center\"> Presentación </H1>\n",
    "\n",
    "## Irene Reyes Valdez\n",
    "\n",
    "- 20 años\n",
    "- Nayarit\n",
    "- Ing. financiera en proceso\n"
   ]
  },
  {
   "cell_type": "markdown",
   "metadata": {},
   "source": [
    "> Me gusta mucho leer, mi saga favorita es Oscuros de Lauren Kate, tambien me gusta nadar y ver peliculas de terror, casi siempre las veo sola porque a poca gente le gusta verlas."
   ]
  },
  {
   "cell_type": "markdown",
   "metadata": {},
   "source": [
    "Espero de esta clase aprender mas cosas sobre el lenguaje python y encontrar diferentes aplicaciones del mismo en mi carrera."
   ]
  },
  {
   "cell_type": "code",
   "execution_count": null,
   "metadata": {},
   "outputs": [],
   "source": []
  }
 ],
 "metadata": {
  "kernelspec": {
   "display_name": "Python 3",
   "language": "python",
   "name": "python3"
  },
  "language_info": {
   "codemirror_mode": {
    "name": "ipython",
    "version": 3
   },
   "file_extension": ".py",
   "mimetype": "text/x-python",
   "name": "python",
   "nbconvert_exporter": "python",
   "pygments_lexer": "ipython3",
   "version": "3.6.4"
  }
 },
 "nbformat": 4,
 "nbformat_minor": 2
}
